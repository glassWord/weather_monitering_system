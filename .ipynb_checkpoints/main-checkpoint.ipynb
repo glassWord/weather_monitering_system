{
 "cells": [
  {
   "cell_type": "markdown",
   "id": "64ebdbdc-9a59-4709-8020-8f64048c3c4a",
   "metadata": {},
   "source": [
    "# Weather Monitering System"
   ]
  },
  {
   "cell_type": "markdown",
   "id": "bdafcccd-a3b0-4beb-9e20-56ad1ae6c3bb",
   "metadata": {},
   "source": [
    "To make future Predictions about Weather based on inputs like Temperature, AIQ and Humidity."
   ]
  },
  {
   "cell_type": "markdown",
   "id": "7baf15ff-4132-4464-809b-56ea067966d9",
   "metadata": {},
   "source": [
    "## Imports"
   ]
  },
  {
   "cell_type": "code",
   "execution_count": 1,
   "id": "dd5c5f33-c53d-4128-9a34-67f8f45a7c4d",
   "metadata": {},
   "outputs": [],
   "source": [
    "import numpy as np\n",
    "import pandas as pd\n",
    "from sklearn.model_selection import train_test_split\n",
    "from sklearn.linear_model import LinearRegression\n",
    "from sklearn.metrics import mean_squared_error, r2_score\n",
    "import matplotlib.pyplot as plt"
   ]
  },
  {
   "cell_type": "markdown",
   "id": "43c61d3d-21a3-432c-a8b2-aadcd8f3cddf",
   "metadata": {},
   "source": [
    "## Example dataset"
   ]
  },
  {
   "cell_type": "code",
   "execution_count": 2,
   "id": "c94ec7a8-a627-4b1f-8721-73c1295a19b7",
   "metadata": {},
   "outputs": [],
   "source": [
    "data = {\n",
    "    'Temperature': [30, 25, 40, 35, 20, 15, 45, 50, 10, 5],\n",
    "    'Humidity': [85, 80, 70, 75, 90, 95, 65, 60, 100, 55],\n",
    "    'AirQuality': [40, 45, 30, 35, 50, 55, 25, 20, 60, 15],\n",
    "    'WeatherScore': [75, 70, 85, 80, 65, 60, 90, 95, 55, 50]\n",
    "}"
   ]
  },
  {
   "cell_type": "markdown",
   "id": "be6611b1-4b1f-4b17-89a0-68eab1e9fab3",
   "metadata": {},
   "source": [
    "## Weather Prediction"
   ]
  },
  {
   "cell_type": "code",
   "execution_count": 3,
   "id": "70b4caff-f6a9-40cd-b4f9-1b262e1e321a",
   "metadata": {},
   "outputs": [],
   "source": [
    "def predict_weather(data):\n",
    "    df = pd.DataFrame(data)\n",
    "    \n",
    "    # Features and targets\n",
    "    X = df[['WeatherScore']]\n",
    "    y_temp = df['Temperature']\n",
    "    y_humid = df['Humidity']\n",
    "    y_air_quality = df['AirQuality']\n",
    "    \n",
    "    # Split the data into training/testing sets for each target\n",
    "    X_train_temp, X_test_temp, y_train_temp, y_test_temp = train_test_split(X, y_temp, test_size=0.2, random_state=42)\n",
    "    X_train_humid, X_test_humid, y_train_humid, y_test_humid = train_test_split(X, y_humid, test_size=0.2, random_state=42)\n",
    "    X_train_air, X_test_air, y_train_air, y_test_air = train_test_split(X, y_air_quality, test_size=0.2, random_state=42)\n",
    "\n",
    "    # Step 2: Model Training\n",
    "    model_temp = LinearRegression()\n",
    "    model_temp.fit(X_train_temp, y_train_temp)\n",
    "    \n",
    "    model_humid = LinearRegression()\n",
    "    model_humid.fit(X_train_humid, y_train_humid)\n",
    "    \n",
    "    model_air = LinearRegression()\n",
    "    model_air.fit(X_train_air, y_train_air)\n",
    "    \n",
    "    # Step 3: Prediction\n",
    "    y_pred_temp = model_temp.predict(X_test_temp)\n",
    "    y_pred_humid = model_humid.predict(X_test_humid)\n",
    "    y_pred_air = model_air.predict(X_test_air)\n",
    "\n",
    "    return [y_pred_temp, y_pred_humid, y_pred_air]"
   ]
  },
  {
   "cell_type": "markdown",
   "id": "e3e1db8c-09c5-4f6e-9690-917e8e3f8e75",
   "metadata": {},
   "source": [
    "## Visual Data"
   ]
  },
  {
   "cell_type": "code",
   "execution_count": 4,
   "id": "4358479e-6d44-4eb7-aa50-b1b2ff1eb486",
   "metadata": {},
   "outputs": [],
   "source": [
    "def visual_data(y_pred_temp, y_pred_humid, y_pred_air):\n",
    "    \n",
    "    # Step 4: Visualization\n",
    "    plt.figure(figsize=(15, 6))\n",
    "\n",
    "    # Temperature\n",
    "    plt.subplot(1, 3, 1)\n",
    "    plt.scatter(y_test_temp, y_pred_temp, color='blue', label='Predicted vs Actual')\n",
    "    plt.plot([y_temp.min(), y_temp.max()], [y_temp.min(), y_temp.max()], 'k--', lw=2, label='Perfect Prediction')\n",
    "    plt.xlabel('Actual Temperature')\n",
    "    plt.ylabel('Predicted Temperature')\n",
    "    plt.title('Temperature Prediction')\n",
    "    plt.legend()\n",
    "    \n",
    "    # Humidity\n",
    "    plt.subplot(1, 3, 2)\n",
    "    plt.scatter(y_test_humid, y_pred_humid, color='blue', label='Predicted vs Actual')\n",
    "    plt.plot([y_humid.min(), y_humid.max()], [y_humid.min(), y_humid.max()], 'k--', lw=2, label='Perfect Prediction')\n",
    "    plt.xlabel('Actual Humidity')\n",
    "    plt.ylabel('Predicted Humidity')\n",
    "    plt.title('Humidity Prediction')\n",
    "    plt.legend()\n",
    "    \n",
    "    # Air Quality\n",
    "    plt.subplot(1, 3, 3)\n",
    "    plt.scatter(y_test_air, y_pred_air, color='blue', label='Predicted vs Actual')\n",
    "    plt.plot([y_air_quality.min(), y_air_quality.max()], [y_air_quality.min(), y_air_quality.max()], 'k--', lw=2, label='Perfect Prediction')\n",
    "    plt.xlabel('Actual Air Quality')\n",
    "    plt.ylabel('Predicted Air Quality')\n",
    "    plt.title('Air Quality Prediction')\n",
    "    plt.legend()\n",
    "\n",
    "    plt.tight_layout()\n",
    "    plt.show()\n"
   ]
  },
  {
   "cell_type": "markdown",
   "id": "d7913b2a-31ea-4c60-b28c-180cda29b288",
   "metadata": {},
   "source": [
    "## Result Printing"
   ]
  },
  {
   "cell_type": "code",
   "execution_count": 5,
   "id": "84cf3432-f6e1-4237-8527-76ecf79617ad",
   "metadata": {},
   "outputs": [],
   "source": [
    "def result_print(y_pred_temp, y_pred_humid, y_pred_air):\n",
    "    print(\"Predicted Temperature:\", y_pred_temp)\n",
    "    print(\"Predicted Humidity:\", y_pred_humid)\n",
    "    print(\"Predicted Air Quality:\", y_pred_air)\n"
   ]
  },
  {
   "cell_type": "code",
   "execution_count": 6,
   "id": "9f0e019b-584c-4cd6-889f-d63e10b767e9",
   "metadata": {},
   "outputs": [],
   "source": [
    "res = predict_weather(data)"
   ]
  },
  {
   "cell_type": "code",
   "execution_count": 9,
   "id": "2b66ae7f-f1e2-4744-841a-753eb0816090",
   "metadata": {},
   "outputs": [
    {
     "name": "stdout",
     "output_type": "stream",
     "text": [
      "Predicted Temperature: [10. 25.]\n",
      "Predicted Humidity: [79.66911765 75.69852941]\n",
      "Predicted Air Quality: [39.04411765 35.07352941]\n"
     ]
    }
   ],
   "source": [
    "result_print(*res)\n",
    "# visual_data(*res)"
   ]
  },
  {
   "cell_type": "markdown",
   "id": "61f41236-c57b-404d-9f65-441ea49aeaf6",
   "metadata": {},
   "source": [
    "## Print model performance"
   ]
  },
  {
   "cell_type": "code",
   "execution_count": null,
   "id": "80792a5d-6fa7-4c3e-b783-0dfd94b891f6",
   "metadata": {},
   "outputs": [],
   "source": [
    "print(f'Temperature - Mean Squared Error: {mean_squared_error(y_test_temp, y_pred_temp):.2f}')\n",
    "print(f'Temperature - R² Score: {r2_score(y_test_temp, y_pred_temp):.2f}')\n",
    "print(f'Humidity - Mean Squared Error: {mean_squared_error(y_test_humid, y_pred_humid):.2f}')\n",
    "print(f'Humidity - R² Score: {r2_score(y_test_humid, y_pred_humid):.2f}')\n",
    "print(f'Air Quality - Mean Squared Error: {mean_squared_error(y_test_air, y_pred_air):.2f}')\n",
    "print(f'Air Quality - R² Score: {r2_score(y_test_air, y_pred_air):.2f}')"
   ]
  },
  {
   "cell_type": "code",
   "execution_count": null,
   "id": "23fc5d26-fcd7-4be1-a86e-ec02b6669532",
   "metadata": {},
   "outputs": [],
   "source": []
  }
 ],
 "metadata": {
  "kernelspec": {
   "display_name": "Python 3 (ipykernel)",
   "language": "python",
   "name": "python3"
  },
  "language_info": {
   "codemirror_mode": {
    "name": "ipython",
    "version": 3
   },
   "file_extension": ".py",
   "mimetype": "text/x-python",
   "name": "python",
   "nbconvert_exporter": "python",
   "pygments_lexer": "ipython3",
   "version": "3.9.0"
  }
 },
 "nbformat": 4,
 "nbformat_minor": 5
}
